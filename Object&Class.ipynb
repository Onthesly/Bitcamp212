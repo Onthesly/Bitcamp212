{
 "cells": [
  {
   "cell_type": "markdown",
   "id": "f26ea39d",
   "metadata": {},
   "source": [
    "## A2. 객체와 클래스"
   ]
  },
  {
   "cell_type": "code",
   "execution_count": 1,
   "id": "2b92c2b4",
   "metadata": {},
   "outputs": [
    {
     "name": "stdout",
     "output_type": "stream",
     "text": [
      "9 10 True\n",
      "11 10 True\n"
     ]
    }
   ],
   "source": [
    "class Television:\n",
    "    def __init__(self, channel, volume, on):\n",
    "        self.channel = channel\n",
    "        self.volume = volume\n",
    "        self.on = on\n",
    "        \n",
    "    def show(self):\n",
    "        print(self.channel, self.volume, self.on)\n",
    "        \n",
    "    def setChannel(self, channel):\n",
    "        self.channel = channel\n",
    "        \n",
    "    def getChannel(self):\n",
    "        return self.channel\n",
    "    \n",
    "t = Television(9, 10, True)\n",
    "t.show()\n",
    "\n",
    "t.setChannel(11)\n",
    "t.show()"
   ]
  },
  {
   "cell_type": "code",
   "execution_count": 2,
   "id": "c0f6276c",
   "metadata": {},
   "outputs": [
    {
     "name": "stdout",
     "output_type": "stream",
     "text": [
      "원의 면적 314.1592653589793\n",
      "원의 둘레 62.83185307179586\n"
     ]
    }
   ],
   "source": [
    "import math\n",
    "\n",
    "# Circle 클래스를 정의한다.\n",
    "class Circle:\n",
    "    def __init__(self, radius = 0):\n",
    "        self.radius = radius\n",
    "        \n",
    "    def getArea(self):\n",
    "        return math.pi*self.radius*self.radius\n",
    "    \n",
    "    def getPerimeter(self):\n",
    "        return 2*math.pi*self.radius\n",
    "    \n",
    "# Circle 객체를 생성한다.\n",
    "c = Circle(10)\n",
    "print('원의 면적', c.getArea())\n",
    "print('원의 둘레', c.getPerimeter())"
   ]
  },
  {
   "cell_type": "code",
   "execution_count": 3,
   "id": "88651079",
   "metadata": {},
   "outputs": [
    {
     "name": "stdout",
     "output_type": "stream",
     "text": [
      "자동차 객체를 생성하였습니다.\n",
      "자동차의 속도는 0\n",
      "자동차의 색상은 blue\n",
      "자동차의 모델은 E-class\n",
      "자동차의 속도는 60\n"
     ]
    }
   ],
   "source": [
    "class Car:\n",
    "    def __init__(self, speed, color, model):\n",
    "        self.speed = speed\n",
    "        self.color = color\n",
    "        self.model = model\n",
    "        \n",
    "    def drive(self):\n",
    "        self.speed = 60\n",
    "        \n",
    "myCar = Car(0, 'blue', 'E-class')\n",
    "\n",
    "print('자동차 객체를 생성하였습니다.')\n",
    "print('자동차의 속도는', myCar.speed)\n",
    "print('자동차의 색상은', myCar.color)\n",
    "print('자동차의 모델은', myCar.model)\n",
    "\n",
    "myCar.drive()\n",
    "print('자동차의 속도는', myCar.speed)"
   ]
  },
  {
   "cell_type": "code",
   "execution_count": 4,
   "id": "68e3891e",
   "metadata": {},
   "outputs": [
    {
     "data": {
      "text/plain": [
       "'Hong'"
      ]
     },
     "execution_count": 4,
     "metadata": {},
     "output_type": "execute_result"
    }
   ],
   "source": [
    "class Student:\n",
    "    def __init__(self, name=None, age=0):\n",
    "        self.__name = name\n",
    "        self.__age = age\n",
    "        \n",
    "    def getAge(self):\n",
    "        return self.__age\n",
    "    \n",
    "    def getName(self):\n",
    "        return self.__name\n",
    "    \n",
    "    def setAge(self, age):\n",
    "        self.__age = age\n",
    "        \n",
    "    def setName(self, name):\n",
    "        self.__name = name\n",
    "        \n",
    "obj = Student('Hong', 20)\n",
    "obj.getName()"
   ]
  },
  {
   "cell_type": "code",
   "execution_count": 6,
   "id": "34e9b9f8",
   "metadata": {},
   "outputs": [
    {
     "name": "stdout",
     "output_type": "stream",
     "text": [
      "통장에서 100 가 출금되었음\n",
      "통장에 10 가 입금되었음\n"
     ]
    },
    {
     "data": {
      "text/plain": [
       "90"
      ]
     },
     "execution_count": 6,
     "metadata": {},
     "output_type": "execute_result"
    }
   ],
   "source": [
    "class BankAccount:\n",
    "    def __init__(self):\n",
    "        self.__balance = 0\n",
    "        \n",
    "    def withdraw(self, amount):\n",
    "        self.__balance -= amount\n",
    "        print('통장에', amount, '가 입금되었음')\n",
    "        return self.__balance\n",
    "    \n",
    "    def deposit(self, amount):\n",
    "        self.__balance += amount\n",
    "        print('통장에서', amount, '가 출금되었음')\n",
    "        return self.__balance\n",
    "    \n",
    "a = BankAccount()\n",
    "a.deposit(100)\n",
    "a.withdraw(10)"
   ]
  },
  {
   "cell_type": "code",
   "execution_count": 13,
   "id": "6c00f8b0",
   "metadata": {},
   "outputs": [
    {
     "name": "stdout",
     "output_type": "stream",
     "text": [
      "11 10 True 1\n",
      "12 9 True 2\n",
      "12 9 True 2\n"
     ]
    }
   ],
   "source": [
    "class Television:\n",
    "    serialNumber = 0\n",
    "    \n",
    "    def __init__(self, channel, volume, on):\n",
    "        self.channel = channel\n",
    "        self.volume = volume\n",
    "        self.on = on\n",
    "        Television.serialNumber += 1\n",
    "        self.number = Television.serialNumber\n",
    "        \n",
    "    def show(self):\n",
    "        print(self.channel, self.volume, self.on, self.number)\n",
    "        \n",
    "    def setChannel(self, channel):\n",
    "        self.channel = channel\n",
    "        \n",
    "    def getChannel(self):\n",
    "        return self.channel\n",
    "    \n",
    "myTV = Television(11,10,True);\n",
    "myTV.show()\n",
    "t = Television(12,9,True)\n",
    "t.show()\n",
    "s = t\n",
    "s.show()"
   ]
  },
  {
   "cell_type": "code",
   "execution_count": 14,
   "id": "84ac0be6",
   "metadata": {},
   "outputs": [
    {
     "name": "stdout",
     "output_type": "stream",
     "text": [
      "(1, 1)\n"
     ]
    }
   ],
   "source": [
    "class Vector2D:\n",
    "    def __init__(self, x, y):\n",
    "        self.x = x\n",
    "        self.y = y\n",
    "        \n",
    "    def __add__(self, other):\n",
    "        return Vector2D(self.x + other.x, self.y + other.y)\n",
    "    \n",
    "    def __sub__(self, other):\n",
    "        return Vector2D(self.x - other.x, self.y - other.y)\n",
    "    \n",
    "    def __eq__(self, other):\n",
    "        return self.x == other.x and self.y == other.y\n",
    "    \n",
    "    def __str__(self):\n",
    "        return '(%g, %g)'%(self.x, self.y)\n",
    "    \n",
    "u = Vector2D(0,1)\n",
    "v = Vector2D(1,0)\n",
    "w = Vector2D(1,1)\n",
    "a = u + v\n",
    "print(a)"
   ]
  },
  {
   "cell_type": "code",
   "execution_count": 15,
   "id": "9e94fd99",
   "metadata": {},
   "outputs": [
    {
     "name": "stdout",
     "output_type": "stream",
     "text": [
      "주사위의 값= 2\n"
     ]
    }
   ],
   "source": [
    "from random import randint\n",
    "\n",
    "class Dice:\n",
    "    def __init__(self, x, y):\n",
    "        self._x = x\n",
    "        self._y = y\n",
    "        self._size = 30\n",
    "        self._value = 1\n",
    "        \n",
    "    def read_dice(self):\n",
    "        return self._value\n",
    "    \n",
    "    def print_dice(self):\n",
    "        print('주사위의 값=', self._value)\n",
    "        \n",
    "    def roll_dice(self):\n",
    "        self._value = randint(1, 6)\n",
    "        \n",
    "d = Dice(100, 100)\n",
    "d.roll_dice()\n",
    "d.print_dice()"
   ]
  }
 ],
 "metadata": {
  "kernelspec": {
   "display_name": "Python 3",
   "language": "python",
   "name": "python3"
  },
  "language_info": {
   "codemirror_mode": {
    "name": "ipython",
    "version": 3
   },
   "file_extension": ".py",
   "mimetype": "text/x-python",
   "name": "python",
   "nbconvert_exporter": "python",
   "pygments_lexer": "ipython3",
   "version": "3.8.8"
  }
 },
 "nbformat": 4,
 "nbformat_minor": 5
}
